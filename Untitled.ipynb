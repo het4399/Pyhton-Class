{
 "cells": [
  {
   "cell_type": "code",
   "execution_count": 420,
   "metadata": {},
   "outputs": [
    {
     "name": "stdout",
     "output_type": "stream",
     "text": [
      "['A', 'E', 'B', 'C', 'D']\n"
     ]
    }
   ],
   "source": [
    "def myfun():\n",
    "    return 0.6\n",
    "mylist = ['A','B','C','D','E']\n",
    "random.shuffle(mylist,myfun)\n",
    "print(mylist)"
   ]
  },
  {
   "cell_type": "code",
   "execution_count": 617,
   "metadata": {},
   "outputs": [
    {
     "name": "stdout",
     "output_type": "stream",
     "text": [
      "['D', 'E', 'B']\n"
     ]
    }
   ],
   "source": [
    "print(random.sample(mylist,k=3))"
   ]
  },
  {
   "cell_type": "code",
   "execution_count": 620,
   "metadata": {},
   "outputs": [
    {
     "name": "stdout",
     "output_type": "stream",
     "text": [
      "Ask anything:how are you?\n",
      "Probably not\n"
     ]
    }
   ],
   "source": [
    "l = ['yes,for sure!','probably yes','seems like yes...','Definitely not!','Probably not','I really doubt it']\n",
    "q = input('Ask anything:')\n",
    "print(random.choice(l))"
   ]
  },
  {
   "cell_type": "code",
   "execution_count": 22,
   "metadata": {},
   "outputs": [
    {
     "name": "stdout",
     "output_type": "stream",
     "text": [
      "1\n"
     ]
    },
    {
     "data": {
      "text/plain": [
       "\"l1 = ['rock','paper','scissor','lizard','spock']\\ndef fun():\\n    a = random.choice(l1)\\n    b = input('Enter choice:')\\n    print(a)\\n    if(d1[b]==a):\\n        print('tie')\\n    elif(d1[b]==1 and a=='paper'):\\n        print('rock wins')\\n    elif((d1[b]==1 and a=='scissor')):\\n        print('rock wins')\\n    elif((d1[b]==1 and a=='lizard')):\\n        print('rock wins')\\n    elif(d1[b]==1 and a=='spock'):\\n        print('spock wins')\\n    elif(d1[b]==2 and a=='scissor'):\\n        print('scissor wins')\\n    elif(d1[b]==2 and a=='lizard'):\\n        print('lizard wins')\\n    elif(d1[b]==2 and a=='spock'):\\n        print('paper wins')\\n    elif(d1[b]==3 and a=='lizard'):\\n        print('scissor wins')\\n    elif(d1[b]==3 and a=='spock'):\\n        print('spock wins')\\n    elif(d1[b]==4 and a=='spock'):\\n        print('lizard wins')\\n    else:\\n        print('you loose')\\nfun()\""
      ]
     },
     "execution_count": 22,
     "metadata": {},
     "output_type": "execute_result"
    }
   ],
   "source": [
    "d1 = {'rock':1,'paper':2,'scissor':3,'lizard':4,'spock':5}\n",
    "print(d1['rock'])\n",
    "'''l1 = ['rock','paper','scissor','lizard','spock']\n",
    "def fun():\n",
    "    a = random.choice(l1)\n",
    "    b = input('Enter choice:')\n",
    "    print(a)\n",
    "    if(d1[b]==a):\n",
    "        print('tie')\n",
    "    elif(d1[b]==1 and a=='paper'):\n",
    "        print('rock wins')\n",
    "    elif((d1[b]==1 and a=='scissor')):\n",
    "        print('rock wins')\n",
    "    elif((d1[b]==1 and a=='lizard')):\n",
    "        print('rock wins')\n",
    "    elif(d1[b]==1 and a=='spock'):\n",
    "        print('spock wins')\n",
    "    elif(d1[b]==2 and a=='scissor'):\n",
    "        print('scissor wins')\n",
    "    elif(d1[b]==2 and a=='lizard'):\n",
    "        print('lizard wins')\n",
    "    elif(d1[b]==2 and a=='spock'):\n",
    "        print('paper wins')\n",
    "    elif(d1[b]==3 and a=='lizard'):\n",
    "        print('scissor wins')\n",
    "    elif(d1[b]==3 and a=='spock'):\n",
    "        print('spock wins')\n",
    "    elif(d1[b]==4 and a=='spock'):\n",
    "        print('lizard wins')\n",
    "    else:\n",
    "        print('you loose')\n",
    "fun()'''"
   ]
  },
  {
   "cell_type": "code",
   "execution_count": 2,
   "metadata": {},
   "outputs": [
    {
     "name": "stdout",
     "output_type": "stream",
     "text": [
      "['Spade of Ace', 'Club of Ace', 'Diamond of Ace', 'Heart of Ace', 'Spade of 2', 'Club of 2', 'Diamond of 2', 'Heart of 2', 'Spade of 3', 'Club of 3', 'Diamond of 3', 'Heart of 3', 'Spade of 4', 'Club of 4', 'Diamond of 4', 'Heart of 4', 'Spade of 5', 'Club of 5', 'Diamond of 5', 'Heart of 5', 'Spade of 6', 'Club of 6', 'Diamond of 6', 'Heart of 6', 'Spade of 7', 'Club of 7', 'Diamond of 7', 'Heart of 7', 'Spade of 8', 'Club of 8', 'Diamond of 8', 'Heart of 8', 'Spade of 9', 'Club of 9', 'Diamond of 9', 'Heart of 9', 'Spade of 10', 'Club of 10', 'Diamond of 10', 'Heart of 10', 'Spade of Jack', 'Club of Jack', 'Diamond of Jack', 'Heart of Jack', 'Spade of Queen', 'Club of Queen', 'Diamond of Queen', 'Heart of Queen', 'Spade of King', 'Club of King', 'Diamond of King', 'Heart of King']\n"
     ]
    }
   ],
   "source": [
    "x = ['Ace','2','3','4','5','6','7','8','9','10','Jack','Queen','King']\n",
    "y = ['Spade','Club','Diamond','Heart']\n",
    "l = []\n",
    "for i in x:\n",
    "    for j in y:\n",
    "        l.append(j+' of '+ i)\n",
    "print((l))"
   ]
  },
  {
   "cell_type": "code",
   "execution_count": 20,
   "metadata": {},
   "outputs": [],
   "source": [
    "import random\n",
    "l1=l\n",
    "\n"
   ]
  }
 ],
 "metadata": {
  "kernelspec": {
   "display_name": "Python 3",
   "language": "python",
   "name": "python3"
  },
  "language_info": {
   "codemirror_mode": {
    "name": "ipython",
    "version": 3
   },
   "file_extension": ".py",
   "mimetype": "text/x-python",
   "name": "python",
   "nbconvert_exporter": "python",
   "pygments_lexer": "ipython3",
   "version": "3.8.5"
  }
 },
 "nbformat": 4,
 "nbformat_minor": 4
}
